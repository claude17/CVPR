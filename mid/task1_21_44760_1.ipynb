{
  "nbformat": 4,
  "nbformat_minor": 0,
  "metadata": {
    "colab": {
      "provenance": []
    },
    "kernelspec": {
      "name": "python3",
      "display_name": "Python 3"
    },
    "language_info": {
      "name": "python"
    }
  },
  "cells": [
    {
      "cell_type": "code",
      "execution_count": 11,
      "metadata": {
        "colab": {
          "base_uri": "https://localhost:8080/"
        },
        "id": "qgZt6C6VfHsS",
        "outputId": "b2ea2dd5-c0ad-4e32-df8b-32047691e67e"
      },
      "outputs": [
        {
          "output_type": "stream",
          "name": "stdout",
          "text": [
            "[1, 2, 3, 4, 5, 6, 7, 8, 9, 10]\n",
            "[1, 2, 3, 4, 5, 6, 7, 8, 9, 10, 1, 4, 9, 16, 25, 36, 49, 64, 81, 100]\n",
            "total sum: 440\n"
          ]
        }
      ],
      "source": [
        "#list\n",
        "my_list = [x for x in range(1, 11)]\n",
        "print(my_list)\n",
        "\n",
        "my_list_range=len(my_list)\n",
        "for i in range(my_list_range):\n",
        "  my_list.append(my_list[i]**2)\n",
        "\n",
        "print(my_list)\n",
        "\n",
        "totalsum=0\n",
        "for element in my_list:\n",
        "  totalsum += element\n",
        "print(\"total sum:\", totalsum)\n",
        "\n",
        "\n",
        "\n"
      ]
    },
    {
      "cell_type": "code",
      "source": [
        "#tuple\n",
        "even_tuple = tuple(x for x in range(1, 12) if x % 2 == 0)\n",
        "print(even_tuple)\n",
        "total_sum=0\n",
        "for element in even_tuple:\n",
        "  total_sum += element\n",
        "print(\"total sum:\", total_sum)\n",
        "\n",
        "\n",
        "\n"
      ],
      "metadata": {
        "id": "YggmpphDjclE",
        "colab": {
          "base_uri": "https://localhost:8080/"
        },
        "outputId": "3b9de818-99ae-49aa-d7e5-6944946ad7e4"
      },
      "execution_count": 16,
      "outputs": [
        {
          "output_type": "stream",
          "name": "stdout",
          "text": [
            "(2, 4, 6, 8, 10)\n",
            "total sum: 30\n"
          ]
        }
      ]
    },
    {
      "cell_type": "code",
      "source": [],
      "metadata": {
        "id": "QK8Xo1DhrJkB"
      },
      "execution_count": null,
      "outputs": []
    },
    {
      "cell_type": "code",
      "source": [
        "#set\n",
        "set1 = {x for x in range(1, 11) if x % 2 != 0}\n",
        "set2 = {x for x in range(1, 11) if x % 2 != 0}\n",
        "print(set1)\n",
        "print(set2)\n",
        "union_set = set1.union(set2)\n",
        "print(\"Union of the two sets:\", union_set)\n",
        "intersection_set = set1.intersection(set2)\n",
        "print(\"Intersection of the two sets:\", intersection_set)"
      ],
      "metadata": {
        "colab": {
          "base_uri": "https://localhost:8080/"
        },
        "id": "t-br25utrqw-",
        "outputId": "ec452cd1-3b39-42e0-a480-543ccd7a6a76"
      },
      "execution_count": 19,
      "outputs": [
        {
          "output_type": "stream",
          "name": "stdout",
          "text": [
            "{1, 3, 5, 7, 9}\n",
            "{1, 3, 5, 7, 9}\n",
            "Union of the two sets: {1, 3, 5, 7, 9}\n",
            "Intersection of the two sets: {1, 3, 5, 7, 9}\n"
          ]
        }
      ]
    },
    {
      "cell_type": "code",
      "source": [],
      "metadata": {
        "id": "iXecrrxar-Sm"
      },
      "execution_count": null,
      "outputs": []
    },
    {
      "cell_type": "code",
      "source": [
        "#dictionary\n",
        "lower_alphabet_dictionary = {chr(x): ord(chr(x)) for x in range(ord('a'), ord('e') + 1)}\n",
        "\n",
        "# Print the dictionary\n",
        "print(\"ASCII values:\")\n",
        "print(lower_alphabet_dictionary)"
      ],
      "metadata": {
        "colab": {
          "base_uri": "https://localhost:8080/"
        },
        "id": "GRGkVufssLAC",
        "outputId": "d4d14887-1075-4236-d2bd-f919480eeb1b"
      },
      "execution_count": 20,
      "outputs": [
        {
          "output_type": "stream",
          "name": "stdout",
          "text": [
            "ASCII values:\n",
            "{'a': 97, 'b': 98, 'c': 99, 'd': 100, 'e': 101}\n"
          ]
        }
      ]
    }
  ]
}